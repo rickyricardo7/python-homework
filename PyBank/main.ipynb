{
 "cells": [
  {
   "cell_type": "code",
   "execution_count": 9,
   "id": "5a2085fb-2aa6-4547-aabf-dc348c2fb2a1",
   "metadata": {},
   "outputs": [
    {
     "name": "stdout",
     "output_type": "stream",
     "text": [
      "Financial Analysis\n",
      "-------------------------\n",
      "Total Months: 86\n",
      "Total: $38382578]\n",
      "Average Change: -2315.12\n",
      "Greatest Increase in Profits: Feb-2012 ($1926159)\n",
      "Greatest Decrease in Profits: Sep-2013 ($-2196167)\n"
     ]
    }
   ],
   "source": [
    "# Import Pathlib and csv\n",
    "import csv\n",
    "from pathlib import Path\n",
    "\n",
    "# Set a file path\n",
    "csvpath = Path(\"C:/Users/rcabr/Desktop/smu-dal-virt-fin-pt-08-2021-u-c/02-Homework/02-Python/Instructions/PyBank/Resources/budget_data.csv\")\n",
    "\n",
    "# create variables\n",
    "total_months = []\n",
    "total_profits = []\n",
    "monthly_profit_change= []\n",
    "\n",
    "#open csv file\n",
    "with open(csvpath, 'r') as csvfile:\n",
    "        csvreader = csv.reader(csvfile, delimiter=\",\")\n",
    "        \n",
    "        #Skip header\n",
    "        header = next(csvreader)\n",
    "        \n",
    "        for row in csvreader:\n",
    "            #Total months and total profits and losses\n",
    "            total_months.append(row[0])\n",
    "            total_profits.append(int(row[1]))\n",
    "            \n",
    "        #Profit and losses changes\n",
    "        for i in range(len(total_profits)-1):\n",
    "            #difference of two months and append it to monthly change\n",
    "            monthly_profit_change.append(total_profits[i+1]-total_profits[i])\n",
    "#Have the smallest and largest changes of the month\n",
    "max_increase_value = max(monthly_profit_change)\n",
    "min_decrease_value = min(monthly_profit_change)\n",
    "\n",
    "#putting the minimum and maximum into the corresponding months using the lists and adding a one for the next month\n",
    "max_value = monthly_profit_change.index(max(monthly_profit_change)) +1\n",
    "min_value = monthly_profit_change.index(min(monthly_profit_change)) +1\n",
    "\n",
    "#print statements\n",
    "print(\"Financial Analysis\")\n",
    "print(\"-------------------------\")\n",
    "print(f\"Total Months: {len(total_months)}\")\n",
    "print(f\"Total: ${sum(total_profits)}]\")\n",
    "print(f\"Average Change: {round(sum(monthly_profit_change)/len(monthly_profit_change),2)}\")\n",
    "print(f\"Greatest Increase in Profits: {total_months[max_value]} (${(str(max_increase_value))})\")\n",
    "print(f\"Greatest Decrease in Profits: {total_months[min_value]} (${(str(min_decrease_value))})\")\n"
   ]
  },
  {
   "cell_type": "code",
   "execution_count": null,
   "id": "f85523c2-cab0-449a-b850-d60aa7743938",
   "metadata": {},
   "outputs": [],
   "source": []
  }
 ],
 "metadata": {
  "kernelspec": {
   "display_name": "Python 3",
   "language": "python",
   "name": "python3"
  },
  "language_info": {
   "codemirror_mode": {
    "name": "ipython",
    "version": 3
   },
   "file_extension": ".py",
   "mimetype": "text/x-python",
   "name": "python",
   "nbconvert_exporter": "python",
   "pygments_lexer": "ipython3",
   "version": "3.8.8"
  }
 },
 "nbformat": 4,
 "nbformat_minor": 5
}
